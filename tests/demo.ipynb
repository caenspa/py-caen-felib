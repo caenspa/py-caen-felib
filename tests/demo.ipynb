{
 "cells": [
  {
   "cell_type": "code",
   "execution_count": null,
   "metadata": {},
   "outputs": [],
   "source": [
    "%matplotlib inline\n",
    "import numpy as np\n",
    "from matplotlib import pyplot as plt\n",
    "\n",
    "from caen_felib import device"
   ]
  },
  {
   "attachments": {},
   "cell_type": "markdown",
   "metadata": {},
   "source": [
    "## Connect"
   ]
  },
  {
   "cell_type": "code",
   "execution_count": null,
   "metadata": {},
   "outputs": [],
   "source": [
    "dig = device.connect('dig2://caendgtz-eth-16218.caen.local/')"
   ]
  },
  {
   "attachments": {},
   "cell_type": "markdown",
   "metadata": {},
   "source": [
    "## Example of node browsing"
   ]
  },
  {
   "cell_type": "code",
   "execution_count": null,
   "metadata": {},
   "outputs": [],
   "source": [
    "par_name = 'RecordLengthS'\n",
    "print(f'Info of parameter {par_name}:')\n",
    "\n",
    "par_node = dig.par[par_name]\n",
    "\n",
    "# Browse parameter child nodes\n",
    "for child in dig.par[par_name]:\n",
    "    print(f'\\t{child.name} == {child.value}')\n",
    "\n",
    "# There are several equivalent ways a node can be retrieved\n",
    "assert(par_node == dig.get_node(f'/par/{par_name}'))\n",
    "assert(par_node == dig.par.get_node(f'/{par_name}'))\n",
    "assert(par_node == dig[f'par/{par_name}'])\n",
    "assert(par_node == dig.par[par_name])\n",
    "assert(par_node == dig.get_node('/par')[par_name])\n",
    "assert(par_node == dig.par.RecordLengthS)\n",
    "assert(par_node == par_node.child_nodes[0].parent_node)\n",
    "assert(par_node == par_node.get_child_nodes()[0].get_parent_node())"
   ]
  },
  {
   "attachments": {},
   "cell_type": "markdown",
   "metadata": {},
   "source": [
    "## Configure digitizer"
   ]
  },
  {
   "cell_type": "code",
   "execution_count": null,
   "metadata": {},
   "outputs": [],
   "source": [
    "# Reset\n",
    "dig.cmd.reset()\n",
    "\n",
    "# Set some digitizer parameters\n",
    "dig.par.AcqTriggerSource.value = 'SwTrg'\n",
    "dig.par.RecordLengthS.value = f'{4096}'\n",
    "dig.par.PreTriggerS.value = f'{128}'\n",
    "\n",
    "# Set some channel parameters\n",
    "for ch in dig.ch:\n",
    "\tch.par.DCOffset.value = f'{50}'"
   ]
  },
  {
   "attachments": {},
   "cell_type": "markdown",
   "metadata": {},
   "source": [
    "## Configure endpoint"
   ]
  },
  {
   "cell_type": "code",
   "execution_count": null,
   "metadata": {},
   "outputs": [],
   "source": [
    "nch = int(dig.par.numch.value)\n",
    "reclen = int(dig.par.recordlengths.value)\n",
    "\n",
    "data_format = [\n",
    "\t{\n",
    "\t\t'name': 'TIMESTAMP',\n",
    "\t\t'type': 'U64',\n",
    "\t},\n",
    "\t{\n",
    "\t\t'name': 'WAVEFORM',\n",
    "\t\t'type': 'U16',\n",
    "\t\t'dim': 2,\n",
    "\t\t'shape': [nch, reclen],\n",
    "\t},\n",
    "\t{\n",
    "\t\t'name': 'WAVEFORM_SIZE',\n",
    "\t\t'type': 'U64',\n",
    "\t\t'dim': 1,\n",
    "\t\t'shape': [nch],\n",
    "\t},\n",
    "]\n",
    "\n",
    "# set_read_data_format returns allocated buffers\n",
    "data = dig.endpoint.scope.set_read_data_format(data_format)\n",
    "timestamp = data[0].value\n",
    "waveform = data[1].value\n",
    "waveform_size = data[2].value\n",
    "\n",
    "# set enabled endpoint to activate decode\n",
    "dig.endpoint.par.ActiveEndpoint.value = 'scope'\n"
   ]
  },
  {
   "attachments": {},
   "cell_type": "markdown",
   "metadata": {},
   "source": [
    "## Test waveform plot"
   ]
  },
  {
   "cell_type": "code",
   "execution_count": null,
   "metadata": {},
   "outputs": [],
   "source": [
    "# Start acquisition\n",
    "dig.cmd.armacquisition()\n",
    "dig.cmd.swstartacquisition()\n",
    "\n",
    "# Send trigger and wait for first event\n",
    "dig.cmd.sendswtrigger()\n",
    "dig.endpoint.scope.read_data(-1, data)\n",
    "\n",
    "# Stop acquisition\n",
    "dig.cmd.disarmacquisition()\n",
    "\n",
    "# Plot waveforms\n",
    "for i in range(nch):\n",
    "    size = waveform_size[i]\n",
    "    plt.plot(np.arange(size), waveform[i][:size])\n",
    "plt.title(f'Timestamp: {timestamp}')\n",
    "plt.show()"
   ]
  },
  {
   "attachments": {},
   "cell_type": "markdown",
   "metadata": {},
   "source": [
    "## Some statistics\n",
    "Following lines assume that all channels are enabled and that all waveforms have the same size, and that the size is equal to the np.ndarray row size."
   ]
  },
  {
   "cell_type": "code",
   "execution_count": null,
   "metadata": {},
   "outputs": [],
   "source": [
    "for s, w in zip(waveform_size, waveform):\n",
    "    if s != w.size:\n",
    "        raise RuntimeError('Invalid waveform size')\n",
    "\n",
    "# Compute statistics\n",
    "waveform_mean = waveform.mean(1)\n",
    "waveform_std = waveform.std(1)\n",
    "corrcoef = np.corrcoef(waveform)\n",
    "\n",
    "fig = plt.figure(figsize=(10, 5))\n",
    "\n",
    "# Plot 1\n",
    "ax1 = fig.add_subplot(121)\n",
    "\n",
    "pl1 = ax1.scatter(waveform_mean, waveform_std)\n",
    "for i in range(len(waveform)):\n",
    "    ax1.annotate(f'{i}', (waveform_mean[i], waveform_std[i]))\n",
    "\n",
    "ax1.set_xlabel('Mean (ADC counts)')\n",
    "ax1.set_ylabel('Standard deviation (ADC counts)')\n",
    "ax1.set_title('Channel waveform statistics')\n",
    "ax1.set_aspect('auto')\n",
    "\n",
    "# Plot 2\n",
    "ax2 = fig.add_subplot(122)\n",
    "pl2 = ax2.imshow(corrcoef, interpolation='nearest')\n",
    "\n",
    "ax2.set_xlabel('Channel')\n",
    "ax2.set_ylabel('Channel')\n",
    "ax2.set_title('Correlation coefficient between channels')\n",
    "ax2.set_aspect('auto')\n",
    "fig.colorbar(pl2)\n",
    "\n",
    "# Show\n",
    "plt.show()"
   ]
  }
 ],
 "metadata": {
  "kernelspec": {
   "display_name": "Python 3",
   "language": "python",
   "name": "python3"
  },
  "language_info": {
   "codemirror_mode": {
    "name": "ipython",
    "version": 3
   },
   "file_extension": ".py",
   "mimetype": "text/x-python",
   "name": "python",
   "nbconvert_exporter": "python",
   "pygments_lexer": "ipython3",
   "version": "3.11.1"
  },
  "orig_nbformat": 4,
  "vscode": {
   "interpreter": {
    "hash": "d6e54f158f409b333c736c7c073324d99c61b65ef63026b9c6b60fce81fefce7"
   }
  }
 },
 "nbformat": 4,
 "nbformat_minor": 2
}
