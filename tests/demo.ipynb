{
 "cells": [
  {
   "cell_type": "code",
   "execution_count": null,
   "metadata": {},
   "outputs": [],
   "source": [
    "%matplotlib inline\n",
    "import numpy as np\n",
    "from matplotlib import pyplot as plt\n",
    "\n",
    "from caen_felib import device"
   ]
  },
  {
   "attachments": {},
   "cell_type": "markdown",
   "metadata": {},
   "source": [
    "## Connect"
   ]
  },
  {
   "cell_type": "code",
   "execution_count": null,
   "metadata": {},
   "outputs": [],
   "source": [
    "dig = device.connect('dig2://caendgtz-eth-16218.caen.local/')"
   ]
  },
  {
   "attachments": {},
   "cell_type": "markdown",
   "metadata": {},
   "source": [
    "## Reset"
   ]
  },
  {
   "cell_type": "code",
   "execution_count": null,
   "metadata": {},
   "outputs": [],
   "source": [
    "dig.cmd.reset()"
   ]
  },
  {
   "attachments": {},
   "cell_type": "markdown",
   "metadata": {},
   "source": [
    "## Example of node browsing"
   ]
  },
  {
   "cell_type": "code",
   "execution_count": null,
   "metadata": {},
   "outputs": [],
   "source": [
    "par_name = 'RecordLengthS'\n",
    "print(f'Info of parameter {par_name}:')\n",
    "\n",
    "for child in dig.par.get_node(f'/{par_name}').child_nodes:\n",
    "    print(f'\\t{child.name} == {child.value}')"
   ]
  },
  {
   "attachments": {},
   "cell_type": "markdown",
   "metadata": {},
   "source": [
    "## Configure digitizer"
   ]
  },
  {
   "cell_type": "code",
   "execution_count": null,
   "metadata": {},
   "outputs": [],
   "source": [
    "dig.par.AcqTriggerSource.value = 'SwTrg'\n",
    "dig.par.RecordLengthS.value = '4096'\n",
    "dig.par.PreTriggerS.value = '128'\n",
    "\n",
    "for ch in dig.ch.child_nodes:\n",
    "\tch.par.DCOffset.value = f'{ch.name}'  # set dcoffset to channel id"
   ]
  },
  {
   "attachments": {},
   "cell_type": "markdown",
   "metadata": {},
   "source": [
    "## Configure endpoint"
   ]
  },
  {
   "cell_type": "code",
   "execution_count": null,
   "metadata": {},
   "outputs": [],
   "source": [
    "nch = int(dig.par.numch.value)\n",
    "reclen = int(dig.par.recordlengths.value)\n",
    "\n",
    "data_format = [\n",
    "\t{\n",
    "\t\t'name': 'TIMESTAMP',\n",
    "\t\t'type': 'U64',\n",
    "\t},\n",
    "\t{\n",
    "\t\t'name': 'WAVEFORM',\n",
    "\t\t'type': 'U16',\n",
    "\t\t'dim': 2,\n",
    "\t\t'shape': [nch, reclen],\n",
    "\t},\n",
    "\t{\n",
    "\t\t'name': 'WAVEFORM_SIZE',\n",
    "\t\t'type': 'U64',\n",
    "\t\t'dim': 1,\n",
    "\t\t'shape': [nch],\n",
    "\t},\n",
    "]\n",
    "\n",
    "# set_read_data_format returns allocated buffers\n",
    "data = dig.endpoint.scope.set_read_data_format(data_format)\n",
    "\n",
    "# set enabled endpoint to activate decode\n",
    "dig.endpoint.par.ActiveEndpoint.value = 'scope'\n"
   ]
  },
  {
   "attachments": {},
   "cell_type": "markdown",
   "metadata": {},
   "source": [
    "## Test waveform plot"
   ]
  },
  {
   "cell_type": "code",
   "execution_count": null,
   "metadata": {},
   "outputs": [],
   "source": [
    "# Start acquisition\n",
    "dig.cmd.armacquisition()\n",
    "dig.cmd.swstartacquisition()\n",
    "\n",
    "# Send trigger and wait for first event\n",
    "dig.cmd.sendswtrigger()\n",
    "dig.endpoint.scope.read_data(-1, data)\n",
    "\n",
    "# Stop acquisition\n",
    "dig.cmd.disarmacquisition()\n",
    "\n",
    "# Print timestamp\n",
    "print(f'Timestamp: {data[0].value}')\n",
    "\n",
    "# Plot waveforms\n",
    "for i in range(nch):\n",
    "    plt.plot(np.arange(0, data[2].value[i]), data[1].value[i])\n",
    "\n",
    "plt.show()"
   ]
  }
 ],
 "metadata": {
  "kernelspec": {
   "display_name": "Python 3",
   "language": "python",
   "name": "python3"
  },
  "language_info": {
   "codemirror_mode": {
    "name": "ipython",
    "version": 3
   },
   "file_extension": ".py",
   "mimetype": "text/x-python",
   "name": "python",
   "nbconvert_exporter": "python",
   "pygments_lexer": "ipython3",
   "version": "3.11.1"
  },
  "orig_nbformat": 4,
  "vscode": {
   "interpreter": {
    "hash": "d6e54f158f409b333c736c7c073324d99c61b65ef63026b9c6b60fce81fefce7"
   }
  }
 },
 "nbformat": 4,
 "nbformat_minor": 2
}
