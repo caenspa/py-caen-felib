{
 "cells": [
  {
   "cell_type": "code",
   "execution_count": null,
   "metadata": {},
   "outputs": [],
   "source": [
    "from caen_felib import device"
   ]
  },
  {
   "attachments": {},
   "cell_type": "markdown",
   "metadata": {},
   "source": [
    "## Connect"
   ]
  },
  {
   "cell_type": "code",
   "execution_count": null,
   "metadata": {},
   "outputs": [],
   "source": [
    "dig = device.connect('dig2://caendgtz-eth-16218.caen.local/')\n"
   ]
  },
  {
   "attachments": {},
   "cell_type": "markdown",
   "metadata": {},
   "source": [
    "## Reset"
   ]
  },
  {
   "attachments": {},
   "cell_type": "markdown",
   "metadata": {},
   "source": [
    "dig.cmd.reset()"
   ]
  },
  {
   "attachments": {},
   "cell_type": "markdown",
   "metadata": {},
   "source": [
    "## Example of node browsing"
   ]
  },
  {
   "cell_type": "code",
   "execution_count": null,
   "metadata": {},
   "outputs": [],
   "source": [
    "\n",
    "par_name = 'cupver'\n",
    "print(f'Info of parameter {par_name}:')\n",
    "\n",
    "for child in dig.par.get_node(f'/{par_name}').child_nodes:\n",
    "    print(f'\\t{child.name} == {child.value}')"
   ]
  },
  {
   "attachments": {},
   "cell_type": "markdown",
   "metadata": {},
   "source": [
    "## Configure digitizer"
   ]
  },
  {
   "cell_type": "code",
   "execution_count": 21,
   "metadata": {},
   "outputs": [],
   "source": [
    "reclen = 102400\n",
    "\n",
    "dig.set_value('/par/TestPulsePeriod', '1000')\n",
    "dig.set_value('/par/TestPulseWidth', '16')\n",
    "dig.set_value('/par/AcqTriggerSource', 'TestPulse|ITLA')\n",
    "dig.set_value('/par/RecordLengthS', f'{reclen}')\n",
    "dig.set_value('/par/PreTriggerS', '128')\n",
    "\n",
    "dig.ch[0].par.SamplesOverThreshold.value = '16'\n",
    "dig.ch[0].par.ITLConnect.value = 'ITLA'\n",
    "dig.ch[0].par.TriggerThr.value = '8000'\n",
    "dig.ch[0].par.TriggerThrMode.value = 'Absolute'\n",
    "dig.ch[0].par.SelfTriggerEdge.value = 'Fall'\n",
    "\n",
    "for ch in dig.ch.child_nodes:\n",
    "\tch.set_value(f'/par/DCOffset', f'{0 + int(ch.name)}')\n",
    "\tch.set_value(f'/par/WaveDataSource', 'adc_data')\n",
    "\n",
    "dig.set_value('/endpoint/par/activeendpoint', 'scope')"
   ]
  },
  {
   "attachments": {},
   "cell_type": "markdown",
   "metadata": {},
   "source": [
    "## Test waveform plot"
   ]
  },
  {
   "cell_type": "code",
   "execution_count": null,
   "metadata": {},
   "outputs": [],
   "source": [
    "%matplotlib inline\n",
    "from matplotlib import pyplot as plt\n",
    "\n",
    "plt.plot()\n",
    "plt.show()"
   ]
  }
 ],
 "metadata": {
  "kernelspec": {
   "display_name": "Python 3",
   "language": "python",
   "name": "python3"
  },
  "language_info": {
   "codemirror_mode": {
    "name": "ipython",
    "version": 3
   },
   "file_extension": ".py",
   "mimetype": "text/x-python",
   "name": "python",
   "nbconvert_exporter": "python",
   "pygments_lexer": "ipython3",
   "version": "3.11.1"
  },
  "orig_nbformat": 4,
  "vscode": {
   "interpreter": {
    "hash": "d6e54f158f409b333c736c7c073324d99c61b65ef63026b9c6b60fce81fefce7"
   }
  }
 },
 "nbformat": 4,
 "nbformat_minor": 2
}
